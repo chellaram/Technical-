{
 "cells": [
  {
   "cell_type": "code",
   "execution_count": 2,
   "metadata": {
    "collapsed": false
   },
   "outputs": [
    {
     "name": "stdout",
     "output_type": "stream",
     "text": [
      "100\n",
      "ABB -- Done\n",
      "ACC -- Done\n",
      "ADANIPORTS -- Done\n",
      "AMBUJACEM -- Done\n",
      "APOLLOHOSP -- Done\n",
      "ASHOKLEY -- Done\n",
      "ASIANPAINT -- Done\n",
      "AUROPHARMA -- Done\n",
      "AXISBANK -- Done\n",
      "BAJAJ-AUTO -- Failed\n",
      "BAJFINANCE -- Done\n",
      "BAJAJFINSV -- Done\n",
      "BANKBARODA -- Done\n",
      "BEL -- Done\n",
      "BHARATFORG -- Done\n",
      "BHEL -- Done\n",
      "BPCL -- Done\n",
      "BHARTIARTL -- Done\n",
      "INFRATEL -- Done\n",
      "BOSCHLTD -- Done\n",
      "BRITANNIA -- Done\n",
      "CADILAHC -- Done\n",
      "CAIRN -- Done\n",
      "CASTROLIND -- Done\n",
      "CIPLA -- Done\n",
      "COALINDIA -- Done\n",
      "COLPAL -- Done\n",
      "CONCOR -- Done\n",
      "CUMMINSIND -- Done\n",
      "DLF -- Done\n",
      "DABUR -- Done\n",
      "DIVISLAB -- Done\n",
      "DRREDDY -- Done\n",
      "EICHERMOT -- Done\n",
      "EMAMILTD -- Done\n",
      "GAIL -- Done\n",
      "GSKCONS -- Done\n",
      "GLAXO -- Done\n",
      "GLENMARK -- Done\n",
      "GODREJCP -- Done\n",
      "GRASIM -- Done\n",
      "HCLTECH -- Done\n",
      "HDFCBANK -- Done\n",
      "HEROMOTOCO -- Done\n",
      "HINDALCO -- Done\n",
      "HINDPETRO -- Done\n",
      "HINDUNILVR -- Done\n",
      "HINDZINC -- Done\n",
      "HDFC -- Done\n",
      "ITC -- Done\n",
      "ICICIBANK -- Done\n",
      "IDEA -- Done\n",
      "IBULHSGFIN -- Done\n",
      "IOC -- Done\n",
      "INDUSINDBK -- Done\n",
      "INFY -- Done\n",
      "JSWSTEEL -- Done\n",
      "KOTAKBANK -- Done\n",
      "LICHSGFIN -- Done\n",
      "LT -- Done\n",
      "LUPIN -- Done\n",
      "MARICO -- Done\n",
      "MARUTI -- Done\n",
      "MOTHERSUMI -- Done\n",
      "NHPC -- Done\n",
      "NMDC -- Done\n",
      "NTPC -- Done\n",
      "ONGC -- Done\n",
      "OIL -- Done\n",
      "OFSS -- Done\n",
      "PIDILITIND -- Done\n",
      "PFC -- Done\n",
      "POWERGRID -- Done\n",
      "PGHH -- Done\n",
      "PNB -- Done\n",
      "RCOM -- Done\n",
      "RELIANCE -- Done\n",
      "RECLTD -- Done\n",
      "SHREECEM -- Done\n",
      "SRTRANSFIN -- Done\n",
      "SIEMENS -- Done\n",
      "SBIN -- Done\n",
      "SAIL -- Done\n",
      "SUNPHARMA -- Done\n",
      "TCS -- Done\n",
      "TATAMTRDVR -- Done\n",
      "TATAMOTORS -- Done\n",
      "TATAPOWER -- Done\n",
      "TATASTEEL -- Done\n",
      "TECHM -- Done\n",
      "TITAN -- Done\n",
      "TORNTPHARM -- Done\n",
      "UPL -- Done\n",
      "ULTRACEMCO -- Done\n",
      "UBL -- Done\n",
      "MCDOWELL-N -- Failed\n",
      "VEDL -- Done\n",
      "WIPRO -- Done\n",
      "YESBANK -- Done\n",
      "ZEEL -- Done\n"
     ]
    }
   ],
   "source": [
    "import quandl\n",
    "import csv\n",
    "\n",
    "f = open('data/nifty100-list.csv','rb')\n",
    "read = csv.reader(f)\n",
    "symbols = []\n",
    "\n",
    "for i,arr in enumerate(read):\n",
    "    if i!=0:\n",
    "        symbols.append(arr[2])\n",
    "print len(symbols)\n",
    "\n",
    "faildata = []\n",
    "\n",
    "for symbol in symbols:\n",
    "    try:\n",
    "        mydata = quandl.get(\"NSE/\"+symbol,start_date=\"2013-12-31\", end_date=\"2016-12-31\",authtoken=\"jnTrt-Had6Un8y16z-V9\")\n",
    "        mydata.to_csv(\"data/\"+symbol+\".csv\")\n",
    "        print symbol,\"-- Done\"\n",
    "    except:\n",
    "        faildata.append(symbol)\n",
    "        print symbol,\"-- Failed\"\n",
    "    "
   ]
  },
  {
   "cell_type": "code",
   "execution_count": 3,
   "metadata": {
    "collapsed": false
   },
   "outputs": [
    {
     "name": "stdout",
     "output_type": "stream",
     "text": [
      "['BAJAJ-AUTO', 'MCDOWELL-N']\n"
     ]
    }
   ],
   "source": []
  },
  {
   "cell_type": "code",
   "execution_count": 29,
   "metadata": {
    "collapsed": false
   },
   "outputs": [
    {
     "name": "stdout",
     "output_type": "stream",
     "text": [
      "['BAJAJ_AUTO', 'M_M', 'MCDOWELL_N']\n"
     ]
    }
   ],
   "source": [
    "for i,fail in enumerate(faildata):\n",
    "    faildata[i] = fail.replace('-','_')\n",
    "    faildata[i] = fail.replace('&','_')\n",
    "faildata[0] = 'BAJAJ_AUTO'\n",
    "faildata[2] = 'MCDOWELL_N'\n",
    "print faildata\n",
    "    "
   ]
  },
  {
   "cell_type": "markdown",
   "metadata": {
    "collapsed": false
   },
   "source": [
    "Only M_M FAILED"
   ]
  },
  {
   "cell_type": "code",
   "execution_count": 6,
   "metadata": {
    "collapsed": false
   },
   "outputs": [
    {
     "ename": "ImportError",
     "evalue": "No module named cvxopt",
     "output_type": "error",
     "traceback": [
      "\u001b[1;31m---------------------------------------------------------------------------\u001b[0m",
      "\u001b[1;31mImportError\u001b[0m                               Traceback (most recent call last)",
      "\u001b[1;32m<ipython-input-6-14abf1b564a4>\u001b[0m in \u001b[0;36m<module>\u001b[1;34m()\u001b[0m\n\u001b[1;32m----> 1\u001b[1;33m \u001b[1;32mimport\u001b[0m \u001b[0mcvxopt\u001b[0m\u001b[1;33m\u001b[0m\u001b[0m\n\u001b[0m",
      "\u001b[1;31mImportError\u001b[0m: No module named cvxopt"
     ]
    }
   ],
   "source": [
    "import cvxopt"
   ]
  },
  {
   "cell_type": "code",
   "execution_count": null,
   "metadata": {
    "collapsed": true
   },
   "outputs": [],
   "source": []
  }
 ],
 "metadata": {
  "kernelspec": {
   "display_name": "Python 2",
   "language": "python",
   "name": "python2"
  },
  "language_info": {
   "codemirror_mode": {
    "name": "ipython",
    "version": 2
   },
   "file_extension": ".py",
   "mimetype": "text/x-python",
   "name": "python",
   "nbconvert_exporter": "python",
   "pygments_lexer": "ipython2",
   "version": "2.7.12"
  }
 },
 "nbformat": 4,
 "nbformat_minor": 0
}
