{
 "cells": [
  {
   "cell_type": "markdown",
   "metadata": {},
   "source": [
    "## Data labeller for Marubozu \n",
    "### Can be extended to potentially label other patterns too\n",
    "### Summary: \n",
    "Reads a csv of OHLC data, draws a candlestick chart and records data on click."
   ]
  },
  {
   "cell_type": "code",
   "execution_count": 29,
   "metadata": {
    "collapsed": false,
    "scrolled": true
   },
   "outputs": [
    {
     "name": "stdout",
     "output_type": "stream",
     "text": [
      "1\n",
      "            Open   High    Low   Last  Close  Total Trade Quantity  \\\n",
      "Date                                                                 \n",
      "2015-03-09   340  342.5  335.8  336.7  336.7                786759   \n",
      "\n",
      "            Turnover (Lacs)  \n",
      "Date                         \n",
      "2015-03-09          2660.95  \n",
      "2\n",
      "             Open   High    Low    Last  Close  Total Trade Quantity  \\\n",
      "Date                                                                   \n",
      "2015-03-10  333.3  345.1  333.3  342.55  341.9               1391166   \n",
      "\n",
      "            Turnover (Lacs)  \n",
      "Date                         \n",
      "2015-03-10          4757.13  \n"
     ]
    }
   ],
   "source": [
    "import matplotlib.pyplot as plt\n",
    "from matplotlib.collections import LineCollection, PolyCollection\n",
    "from matplotlib.text import Text\n",
    "from matplotlib.finance import candlestick2_ohlc\n",
    "import numpy as np\n",
    "import pandas as pd\n",
    "# mpl_interaction is a module off of github which resides in the same folder as the notebook\n",
    "# It provides the pan and zoom capabilities to matplotlib graph viewer\n",
    "from mpl_interaction import PanAndZoom\n",
    "\n",
    "scrip = 'ZEEL'\n",
    "df = pd.read_csv('data/ZEEL.csv',index_col=0)\n",
    "# df.columns =[\"PX_OPEN\",\"PX_HIGH\",\"PX_LOW\",\"PX_LAST\"]\n",
    "da = pd.DataFrame()\n",
    "\n",
    "\n",
    "# np.random.seed(0)\n",
    "# dates = pd.date_range('20160101',periods=7)\n",
    "# df = pd.DataFrame(np.reshape(1+np.random.random_sample(42)*0.1,(7,6)),index=dates,columns=[\"PX_BID\",\"PX_ASK\",\"PX_LAST\",\"PX_OPEN\",\"PX_HIGH\",\"PX_LOW\"])\n",
    "# df['PX_HIGH']+=.1\n",
    "# df['PX_LOW']-=.1\n",
    "\n",
    "\n",
    "\n",
    "\n",
    "fig, ax1 = plt.subplots()\n",
    "pan_zoom = PanAndZoom(fig)\n",
    "ax1.set_title('click on points', picker=20)\n",
    "ax1.set_ylabel('ylabel', picker=20, bbox=dict(facecolor='red'))\n",
    "\n",
    "(lines,polys) = candlestick2_ohlc(ax1, df['Open'],df['High'],df['Low'],df['Close'],width=0.5)\n",
    "# lines.set_picker(True)\n",
    "\n",
    "# Set only polys set picker to true to avoid the double click register problem. The advantage is that \n",
    "# clicks now only get registered when you click on a polygon, not when clicked on lines\n",
    "polys.set_picker(True)\n",
    "\n",
    "# The function that gets triggered on click on the graph\n",
    "def onpick1(event):\n",
    "    global da\n",
    "    global scrip\n",
    "    if event.mouseevent.button == 1:\n",
    "        index = event.ind\n",
    "        da = da.append(df.ix[index])\n",
    "        da['scrip'] = scrip \n",
    "        print len(da)\n",
    "        print df.ix[index]\n",
    "\n",
    "#         if isinstance(event.artist, (Text)):\n",
    "#             text = event.artist\n",
    "#             print 'You clicked on the title (\"%s\")' % text.get_text()\n",
    "#         elif isinstance(event.artist, (LineCollection, PolyCollection)):   \n",
    "#             thisline = event.artist\n",
    "#             mouseevent = event.mouseevent\n",
    "#             ind = event.ind[0]\n",
    "#             print 'You clicked on item %d' % ind\n",
    "#             print 'Day: ' + df.index[ind]#.normalize().to_datetime().strftime('%Y-%m-%d')\n",
    "#             for p in ['PX_OPEN','PX_OPEN','PX_HIGH','PX_LOW']:\n",
    "#                 print p + ':' + str(df[p][ind])    \n",
    "#             print('x=%d, y=%d, xdata=%f, ydata=%f' %\n",
    "#               ( mouseevent.x, mouseevent.y, mouseevent.xdata, mouseevent.ydata))\n",
    "\n",
    "###### TRY TO ADD FLOATING TEXT \n",
    "\n",
    "\n",
    "fig.canvas.mpl_connect('pick_event', onpick1)\n",
    "plt.show()\n",
    "da.to_csv('labels.csv', mode='a', header=False)"
   ]
  },
  {
   "cell_type": "code",
   "execution_count": null,
   "metadata": {
    "collapsed": true
   },
   "outputs": [],
   "source": [
    "              Open  High    Low    Last  Close  Total Trade Quantity  \\\n",
    "Date                                                                   \n",
    "2014-03-24  786.25   800  784.6  799.75  799.4                175675   \n",
    "\n",
    "            Turnover (Lacs)  \n",
    "Date                         \n",
    "2014-03-24          1397.49  \n",
    "            Open  High     Low     Last    Close  Total Trade Quantity  \\\n",
    "Date                                                                     \n",
    "2014-12-09  1270  1270  1224.6  1231.35  1226.65                 80498   \n",
    "\n",
    "            Turnover (Lacs)  \n",
    "Date                         \n",
    "2014-12-09           996.49  \n",
    "            Open  High   Low     Last   Close  Total Trade Quantity  \\\n",
    "Date                                                                  \n",
    "2015-08-20  1331  1334  1275  1275.05  1276.6                 51641   \n",
    "\n",
    "            Turnover (Lacs)  \n",
    "Date                         \n",
    "2015-08-20           667.17  "
   ]
  },
  {
   "cell_type": "code",
   "execution_count": null,
   "metadata": {
    "collapsed": false
   },
   "outputs": [],
   "source": []
  },
  {
   "cell_type": "code",
   "execution_count": 17,
   "metadata": {
    "collapsed": false
   },
   "outputs": [
    {
     "data": {
      "text/html": [
       "<div>\n",
       "<table border=\"1\" class=\"dataframe\">\n",
       "  <thead>\n",
       "    <tr style=\"text-align: right;\">\n",
       "      <th></th>\n",
       "      <th>Close</th>\n",
       "      <th>High</th>\n",
       "      <th>Last</th>\n",
       "      <th>Low</th>\n",
       "      <th>Open</th>\n",
       "      <th>Total Trade Quantity</th>\n",
       "      <th>Turnover (Lacs)</th>\n",
       "    </tr>\n",
       "  </thead>\n",
       "  <tbody>\n",
       "    <tr>\n",
       "      <th>2014-03-24</th>\n",
       "      <td>799.4</td>\n",
       "      <td>800</td>\n",
       "      <td>799.75</td>\n",
       "      <td>784.6</td>\n",
       "      <td>786.25</td>\n",
       "      <td>175675</td>\n",
       "      <td>1397.49</td>\n",
       "    </tr>\n",
       "  </tbody>\n",
       "</table>\n",
       "</div>"
      ],
      "text/plain": [
       "            Close  High    Last    Low    Open  Total Trade Quantity  \\\n",
       "2014-03-24  799.4   800  799.75  784.6  786.25                175675   \n",
       "\n",
       "            Turnover (Lacs)  \n",
       "2014-03-24          1397.49  "
      ]
     },
     "execution_count": 17,
     "metadata": {},
     "output_type": "execute_result"
    }
   ],
   "source": [
    "da"
   ]
  },
  {
   "cell_type": "code",
   "execution_count": null,
   "metadata": {
    "collapsed": true
   },
   "outputs": [],
   "source": []
  }
 ],
 "metadata": {
  "kernelspec": {
   "display_name": "Python 2",
   "language": "python",
   "name": "python2"
  },
  "language_info": {
   "codemirror_mode": {
    "name": "ipython",
    "version": 2
   },
   "file_extension": ".py",
   "mimetype": "text/x-python",
   "name": "python",
   "nbconvert_exporter": "python",
   "pygments_lexer": "ipython2",
   "version": "2.7.12"
  }
 },
 "nbformat": 4,
 "nbformat_minor": 0
}
